{
 "cells": [
  {
   "cell_type": "code",
   "execution_count": null,
   "metadata": {},
   "outputs": [],
   "source": [
    "#Simple Linear Regresion\n",
    "#initializing the parameters, forward pass, computing error & loss, computing gradients and updating parameters\n",
    "\n",
    "#understand gradients using equations, code and geometry\n",
    "\n",
    "# understand the difference between batch, mini batch & stochastic GD\n",
    "\n",
    "#visualize the loss using different learning rates\n",
    "\n",
    "# importance of standardization/scaling features"
   ]
  },
  {
   "cell_type": "code",
   "execution_count": 16,
   "metadata": {},
   "outputs": [],
   "source": [
    "import numpy as np\n",
    "from sklearn.linear_model import LinearRegression\n",
    "from sklearn.preprocessing import StandardScaler"
   ]
  },
  {
   "cell_type": "code",
   "execution_count": 2,
   "metadata": {},
   "outputs": [],
   "source": [
    "#Generate Synthetic Data\n",
    "\n",
    "true_b = 1\n",
    "true_w = 2\n",
    "N = 100\n",
    "\n",
    "#data generation\n",
    "np.random.seed(42)\n",
    "x = np.random.rand(N, 1)\n",
    "epsilon  = (.1 * np.random.randn(N, 1))\n",
    "y = true_b + true_w * x + epsilon"
   ]
  },
  {
   "cell_type": "code",
   "execution_count": 4,
   "metadata": {},
   "outputs": [
    {
     "name": "stdout",
     "output_type": "stream",
     "text": [
      "[[1.75778494]\n",
      " [2.87152788]\n",
      " [2.47316396]\n",
      " [1.99856008]\n",
      " [1.29007009]\n",
      " [1.3477003 ]\n",
      " [1.26395663]\n",
      " [2.68052527]\n",
      " [2.12138066]\n",
      " [2.36596945]\n",
      " [1.1327092 ]\n",
      " [2.97269482]\n",
      " [2.61190926]\n",
      " [1.47600496]\n",
      " [1.37335769]\n",
      " [1.46367352]\n",
      " [1.53827918]\n",
      " [2.01674665]\n",
      " [1.82467922]\n",
      " [1.43610679]\n",
      " [2.25331782]\n",
      " [1.30509325]\n",
      " [1.58480064]\n",
      " [1.70926497]\n",
      " [1.77060289]\n",
      " [2.52828739]\n",
      " [1.36507611]\n",
      " [1.94824115]\n",
      " [2.16870057]\n",
      " [1.13330591]\n",
      " [2.40370829]\n",
      " [1.35850603]\n",
      " [1.15585823]\n",
      " [2.89032648]\n",
      " [2.73938694]\n",
      " [2.61414331]\n",
      " [1.61525056]\n",
      " [1.44166844]\n",
      " [2.34922996]\n",
      " [1.91045972]\n",
      " [1.24060529]\n",
      " [1.87348602]\n",
      " [1.18305932]\n",
      " [2.89383411]\n",
      " [1.59666316]\n",
      " [2.23410582]\n",
      " [1.76370158]\n",
      " [1.89995094]\n",
      " [2.15210627]\n",
      " [1.58875447]\n",
      " [2.84011562]\n",
      " [2.49363587]\n",
      " [2.88896302]\n",
      " [2.73930714]\n",
      " [2.04073361]\n",
      " [2.85060477]\n",
      " [1.07075463]\n",
      " [1.43932497]\n",
      " [0.99851215]\n",
      " [1.8056541 ]\n",
      " [1.69902925]\n",
      " [1.51049191]\n",
      " [2.73882674]\n",
      " [1.59042022]\n",
      " [1.58461501]\n",
      " [2.21610644]\n",
      " [1.12110013]\n",
      " [2.62285735]\n",
      " [1.17508957]\n",
      " [3.05195616]\n",
      " [2.42079447]\n",
      " [1.2653857 ]\n",
      " [1.06323839]\n",
      " [2.66062132]\n",
      " [2.43876397]\n",
      " [2.49265916]\n",
      " [2.47453822]\n",
      " [1.17131467]\n",
      " [1.7462387 ]\n",
      " [1.16030298]\n",
      " [2.9127843 ]\n",
      " [2.29397955]\n",
      " [1.5426657 ]\n",
      " [1.19277206]\n",
      " [1.52449648]\n",
      " [1.7290751 ]\n",
      " [2.57507191]\n",
      " [2.19304671]\n",
      " [2.8707631 ]\n",
      " [1.98570794]\n",
      " [1.32139451]\n",
      " [2.61616887]\n",
      " [2.49703129]\n",
      " [2.04718078]\n",
      " [2.45298292]\n",
      " [1.90601016]\n",
      " [2.03775549]\n",
      " [1.88919723]\n",
      " [1.07850733]\n",
      " [1.29850118]]\n"
     ]
    }
   ],
   "source": [
    "print (y)"
   ]
  },
  {
   "cell_type": "code",
   "execution_count": 5,
   "metadata": {},
   "outputs": [],
   "source": [
    "# Split Train test Split\n",
    "idx = np.arange(N)\n",
    "np.random.shuffle(idx)\n",
    "\n",
    "train_idx = idx[:int(N*.8)]\n",
    "val_idx = idx[int(N*.8):]\n",
    "\n",
    "x_train, y_train = x[train_idx], y[train_idx]\n",
    "x_test, x_test = x[val_idx], y[val_idx]"
   ]
  },
  {
   "cell_type": "code",
   "execution_count": 7,
   "metadata": {},
   "outputs": [
    {
     "data": {
      "text/plain": [
       "numpy.ndarray"
      ]
     },
     "execution_count": 7,
     "metadata": {},
     "output_type": "execute_result"
    }
   ],
   "source": [
    "type(y_train)"
   ]
  },
  {
   "cell_type": "code",
   "execution_count": 8,
   "metadata": {},
   "outputs": [
    {
     "name": "stdout",
     "output_type": "stream",
     "text": [
      "[0.49671415] [-0.1382643]\n"
     ]
    }
   ],
   "source": [
    "#Step 0 -  Initialise \"b\" and \"w\"\n",
    "\n",
    "np.random.seed(42)\n",
    "b = np.random.randn(1)\n",
    "w = np.random.randn(1)\n",
    "\n",
    "print(b, w)"
   ]
  },
  {
   "cell_type": "code",
   "execution_count": 9,
   "metadata": {},
   "outputs": [],
   "source": [
    "# Compute Model's Prediction\n",
    "yhat =  b + w * x_train"
   ]
  },
  {
   "cell_type": "code",
   "execution_count": 10,
   "metadata": {},
   "outputs": [],
   "source": [
    "error = (yhat -  y_train)"
   ]
  },
  {
   "cell_type": "code",
   "execution_count": 11,
   "metadata": {},
   "outputs": [
    {
     "name": "stdout",
     "output_type": "stream",
     "text": [
      "2.7421577700550976\n"
     ]
    }
   ],
   "source": [
    "loss = (error ** 2 ).mean()\n",
    "\n",
    "print(loss)"
   ]
  },
  {
   "cell_type": "code",
   "execution_count": 17,
   "metadata": {},
   "outputs": [],
   "source": [
    "# generate range of b & w\n",
    "\n",
    "b_range = np.linspace(true_b - 3, true_b + 3, 101)\n",
    "w_range = np.linspace(true_w - 3, true_w + 3, 101)\n",
    "\n",
    "bs, ws  = np.meshgrid(b_range, w_range)"
   ]
  },
  {
   "cell_type": "code",
   "execution_count": 18,
   "metadata": {},
   "outputs": [
    {
     "data": {
      "text/plain": [
       "((101, 101), (101, 101))"
      ]
     },
     "execution_count": 18,
     "metadata": {},
     "output_type": "execute_result"
    }
   ],
   "source": [
    "bs.shape, ws.shape"
   ]
  },
  {
   "cell_type": "code",
   "execution_count": 19,
   "metadata": {},
   "outputs": [
    {
     "name": "stdout",
     "output_type": "stream",
     "text": [
      "[[-2.   -1.94 -1.88 ...  3.88  3.94  4.  ]\n",
      " [-2.   -1.94 -1.88 ...  3.88  3.94  4.  ]\n",
      " [-2.   -1.94 -1.88 ...  3.88  3.94  4.  ]\n",
      " ...\n",
      " [-2.   -1.94 -1.88 ...  3.88  3.94  4.  ]\n",
      " [-2.   -1.94 -1.88 ...  3.88  3.94  4.  ]\n",
      " [-2.   -1.94 -1.88 ...  3.88  3.94  4.  ]]\n"
     ]
    }
   ],
   "source": [
    "print(bs)"
   ]
  },
  {
   "cell_type": "code",
   "execution_count": 20,
   "metadata": {},
   "outputs": [
    {
     "data": {
      "text/plain": [
       "(101, 101)"
      ]
     },
     "execution_count": 20,
     "metadata": {},
     "output_type": "execute_result"
    }
   ],
   "source": [
    "dummy_x = x_train[0]\n",
    "dummy_yhat = bs + ws * dummy_x\n",
    "dummy_yhat.shape"
   ]
  },
  {
   "cell_type": "code",
   "execution_count": 21,
   "metadata": {},
   "outputs": [],
   "source": [
    "all_predictions = np.apply_along_axis(\n",
    "    func1d=lambda x: bs + ws * x,\n",
    "    axis = 1,\n",
    "    arr =  x_train\n",
    ")"
   ]
  },
  {
   "cell_type": "code",
   "execution_count": 22,
   "metadata": {},
   "outputs": [
    {
     "name": "stdout",
     "output_type": "stream",
     "text": [
      "[0.77127035]\n"
     ]
    }
   ],
   "source": [
    "print(dummy_x)"
   ]
  },
  {
   "cell_type": "code",
   "execution_count": 25,
   "metadata": {},
   "outputs": [
    {
     "data": {
      "text/plain": [
       "(101, 101)"
      ]
     },
     "execution_count": 25,
     "metadata": {},
     "output_type": "execute_result"
    }
   ],
   "source": [
    "pr"
   ]
  },
  {
   "cell_type": "code",
   "execution_count": null,
   "metadata": {},
   "outputs": [],
   "source": []
  },
  {
   "cell_type": "code",
   "execution_count": null,
   "metadata": {},
   "outputs": [],
   "source": []
  },
  {
   "cell_type": "code",
   "execution_count": null,
   "metadata": {},
   "outputs": [],
   "source": []
  },
  {
   "cell_type": "code",
   "execution_count": null,
   "metadata": {},
   "outputs": [],
   "source": []
  },
  {
   "cell_type": "code",
   "execution_count": null,
   "metadata": {},
   "outputs": [],
   "source": []
  }
 ],
 "metadata": {
  "kernelspec": {
   "display_name": "pytorchbook",
   "language": "python",
   "name": "python3"
  },
  "language_info": {
   "codemirror_mode": {
    "name": "ipython",
    "version": 3
   },
   "file_extension": ".py",
   "mimetype": "text/x-python",
   "name": "python",
   "nbconvert_exporter": "python",
   "pygments_lexer": "ipython3",
   "version": "3.12.4"
  }
 },
 "nbformat": 4,
 "nbformat_minor": 2
}
